{
 "cells": [
  {
   "cell_type": "code",
   "execution_count": 1,
   "id": "0bb5e4cb",
   "metadata": {
    "_cell_guid": "b1076dfc-b9ad-4769-8c92-a6c4dae69d19",
    "_uuid": "8f2839f25d086af736a60e9eeb907d3b93b6e0e5",
    "execution": {
     "iopub.execute_input": "2023-12-20T01:13:57.466667Z",
     "iopub.status.busy": "2023-12-20T01:13:57.466262Z",
     "iopub.status.idle": "2023-12-20T01:13:57.796442Z",
     "shell.execute_reply": "2023-12-20T01:13:57.795062Z"
    },
    "papermill": {
     "duration": 0.338272,
     "end_time": "2023-12-20T01:13:57.799458",
     "exception": false,
     "start_time": "2023-12-20T01:13:57.461186",
     "status": "completed"
    },
    "tags": []
   },
   "outputs": [],
   "source": [
    "# This Python 3 environment comes with many helpful analytics libraries installed\n",
    "# It is defined by the kaggle/python Docker image: https://github.com/kaggle/docker-python\n",
    "# For example, here's several helpful packages to load\n",
    "\n",
    "import numpy as np # linear algebra\n",
    "import pandas as pd # data processing, CSV file I/O (e.g. pd.read_csv)\n",
    "\n",
    "# Input data files are available in the read-only \"../input/\" directory\n",
    "# For example, running this (by clicking run or pressing Shift+Enter) will list all files under the input directory\n",
    "\n",
    "import os\n",
    "#for dirname, _, filenames in os.walk('/kaggle/input'):\n",
    "#    for filename in filenames:\n",
    "#        print(os.path.join(dirname, filename))\n",
    "\n",
    "# You can write up to 20GB to the current directory (/kaggle/working/) that gets preserved as output when you create a version using \"Save & Run All\" \n",
    "# You can also write temporary files to /kaggle/temp/, but they won't be saved outside of the current session"
   ]
  },
  {
   "cell_type": "markdown",
   "id": "7e06f2a6",
   "metadata": {
    "papermill": {
     "duration": 0.002271,
     "end_time": "2023-12-20T01:13:57.804885",
     "exception": false,
     "start_time": "2023-12-20T01:13:57.802614",
     "status": "completed"
    },
    "tags": []
   },
   "source": [
    "# Load Data"
   ]
  },
  {
   "cell_type": "code",
   "execution_count": 2,
   "id": "4836d37a",
   "metadata": {
    "execution": {
     "iopub.execute_input": "2023-12-20T01:13:57.811574Z",
     "iopub.status.busy": "2023-12-20T01:13:57.811085Z",
     "iopub.status.idle": "2023-12-20T01:13:57.824500Z",
     "shell.execute_reply": "2023-12-20T01:13:57.823392Z"
    },
    "papermill": {
     "duration": 0.019088,
     "end_time": "2023-12-20T01:13:57.826407",
     "exception": false,
     "start_time": "2023-12-20T01:13:57.807319",
     "status": "completed"
    },
    "tags": []
   },
   "outputs": [
    {
     "name": "stdout",
     "output_type": "stream",
     "text": [
      "['politics', 'sport', 'tech', 'entertainment', 'business']\n"
     ]
    }
   ],
   "source": [
    "# Show the directory structure\n",
    "root_dir = \"/kaggle/input/bbc-news-summary/BBC News Summary/News Articles\"\n",
    "\n",
    "# Show the folders inside the root\n",
    "print(os.listdir(root_dir))"
   ]
  },
  {
   "cell_type": "code",
   "execution_count": 3,
   "id": "1e70df85",
   "metadata": {
    "execution": {
     "iopub.execute_input": "2023-12-20T01:13:57.833696Z",
     "iopub.status.busy": "2023-12-20T01:13:57.832778Z",
     "iopub.status.idle": "2023-12-20T01:14:13.747013Z",
     "shell.execute_reply": "2023-12-20T01:14:13.744373Z"
    },
    "papermill": {
     "duration": 15.920842,
     "end_time": "2023-12-20T01:14:13.749921",
     "exception": false,
     "start_time": "2023-12-20T01:13:57.829079",
     "status": "completed"
    },
    "tags": []
   },
   "outputs": [
    {
     "name": "stderr",
     "output_type": "stream",
     "text": [
      "100%|\u001b[33m██████████\u001b[0m| 5/5 [00:15<00:00,  3.18s/it]"
     ]
    },
    {
     "name": "stdout",
     "output_type": "stream",
     "text": [
      "Total Articles:  2225\n",
      "Total Summaries:  2225\n",
      "Total Categories:  2225\n",
      "\n",
      "Sample Article: \n",
      "Budget to set scene for election\n",
      "\n",
      "Gordon Brown will seek to put the economy at the centre of Labour's bid for a third term in power when he delivers his ninth Budget at 1230 GMT. He is expected to stress the importance of continued economic stability, with low unemployment and interest rates. The chancellor is expected to freeze petrol duty and raise the stamp duty threshold from Â£60,000. But the Conservatives and Lib Dems insist voters face higher taxes and more means-testing under Labour.\n",
      "\n",
      "Treasury officials have said there will not be a pre-election giveaway, but Mr Brown is thought to have about Â£2bn to spare.\n",
      "\n",
      "- Increase in the stamp duty threshold from Â£60,000 \n",
      " - A freeze on petrol duty \n",
      " - An extension of tax credit scheme for poorer families \n",
      " - Possible help for pensioners The stamp duty threshold rise is intended to help first time buyers - a likely theme of all three of the main parties' general election manifestos. Ten years ago, buyers had a much greater chance of avoiding stamp duty, with close to half a million properties, in England and Wales alone, selling for less than Â£60,000. Since then, average UK property prices have more than doubled while the starting threshold for stamp duty has not increased. Tax credits As a result, the number of properties incurring stamp duty has rocketed as has the government's tax take. The Liberal Democrats unveiled their own proposals to raise the stamp duty threshold to Â£150,000 in February.\n",
      "\n",
      "The Tories are also thought likely to propose increased thresholds, with shadow chancellor Oliver Letwin branding stamp duty a \"classic Labour stealth tax\". The Tories say whatever the chancellor gives away will be clawed back in higher taxes if Labour is returned to power. Shadow Treasury chief secretary George Osborne said: \"Everyone who looks at the British economy at the moment says there has been a sharp deterioration in the public finances, that there is a black hole,\" he said. \"If Labour is elected there will be a very substantial tax increase in the Budget after the election, of the order of around Â£10bn.\"\n",
      "\n",
      "But Mr Brown's former advisor Ed Balls, now a parliamentary hopeful, said an examination of Tory plans for the economy showed there would be a Â£35bn difference in investment by the end of the next parliament between the two main parties. He added: \"I don't accept there is any need for any changes to the plans we have set out to meet our spending commitments.\"\n",
      "\n",
      "For the Lib Dems David Laws said: \"The chancellor will no doubt tell us today how wonderfully the economy is doing,\" he said. \"But a lot of that is built on an increase in personal and consumer debt over the last few years - that makes the economy quite vulnerable potentially if interest rates ever do have to go up in a significant way.\" SNP leader Alex Salmond said his party would introduce a Â£2,000 grant for first time buyers, reduce corporation tax and introduce a citizens pension free from means testing. Plaid Cymru's economics spokesman Adam Price said he wanted help to get people on the housing ladder and an increase in the minimum wage to Â£5.60 an hour.\n",
      "\n"
     ]
    },
    {
     "name": "stderr",
     "output_type": "stream",
     "text": [
      "\n"
     ]
    }
   ],
   "source": [
    "from tqdm import tqdm, tqdm_notebook\n",
    "from glob import glob\n",
    "\n",
    "# List which has the unique category names\n",
    "unique_category = os.listdir(root_dir)\n",
    "\n",
    "# List to store the category names\n",
    "news_category_list = []\n",
    "\n",
    "# List to store the news articles\n",
    "news_article_list = []\n",
    "\n",
    "news_summaries_list = []\n",
    "\n",
    "# Iterate through unique category\n",
    "for category in tqdm(unique_category, colour='yellow'):\n",
    "    # Get the absolute path of that category directory\n",
    "    abs_category_path = root_dir + \"/\" + category\n",
    "    abs_summary_path = \"/kaggle/input/bbc-news-summary/BBC News Summary/Summaries\" + \"/\" + category\n",
    "    \n",
    "    # Create a query to get the absolute path of all the .txt files\n",
    "    query = abs_category_path + \"/*.txt\"\n",
    "    summary_query = abs_summary_path + \"/*.txt\"\n",
    "    #print(query)\n",
    "    \n",
    "    # Get the list of absolute path of all the files\n",
    "    file_paths = glob(query)\n",
    "    summary_paths = glob(summary_query)\n",
    "    \n",
    "    # Iterate through all the .txt files path\n",
    "    for file_path in file_paths:\n",
    "\n",
    "        # Open the file\n",
    "        f = open(file_path, 'r', encoding='latin-1')\n",
    "        # Read the file contents\n",
    "        news_article = f.read()\n",
    "        # Close the file\n",
    "        f.close()\n",
    "\n",
    "            \n",
    "        news_article_list.append(news_article)\n",
    "        news_category_list.append(category)\n",
    "            \n",
    "    for summary_path in summary_paths:\n",
    "        # Open the file\n",
    "        f = open(summary_path, 'r', encoding='utf-8')\n",
    "        # Read the file contents\n",
    "        news_summary = f.read()\n",
    "        # Close the file\n",
    "        f.close()\n",
    "\n",
    "            \n",
    "        # Append new articles and category to respective list\n",
    "        news_summaries_list.append(news_summary)\n",
    "        \n",
    "# Print length of news articles and categories\n",
    "print(\"Total Articles: \", len(news_article_list))\n",
    "print(\"Total Summaries: \", len(news_summaries_list))\n",
    "print(\"Total Categories: \", len(news_category_list), end='\\n\\n')\n",
    "\n",
    "# Print a sample article\n",
    "print(\"Sample Article: \")\n",
    "print(news_article_list[0])"
   ]
  },
  {
   "cell_type": "code",
   "execution_count": 4,
   "id": "437ae415",
   "metadata": {
    "execution": {
     "iopub.execute_input": "2023-12-20T01:14:13.758261Z",
     "iopub.status.busy": "2023-12-20T01:14:13.757828Z",
     "iopub.status.idle": "2023-12-20T01:14:14.373785Z",
     "shell.execute_reply": "2023-12-20T01:14:14.371762Z"
    },
    "papermill": {
     "duration": 0.623257,
     "end_time": "2023-12-20T01:14:14.376534",
     "exception": false,
     "start_time": "2023-12-20T01:14:13.753277",
     "status": "completed"
    },
    "tags": []
   },
   "outputs": [],
   "source": [
    "# Dictionary to create a dataframe\n",
    "df_dict = {\"news\": news_article_list, \"summaries\":news_summaries_list, \"labels\": news_category_list}\n",
    "\n",
    "# Convert to dataframe\n",
    "df = pd.DataFrame(df_dict)\n",
    "\n",
    "# Remove the 'n' from the news\n",
    "def remove_ns(text):\n",
    "    return text.replace(\"\\n\", \" \")\n",
    "\n",
    "# Apply this to the data frame\n",
    "df['news'] = df['news'].astype(str)\n",
    "df['summaries'] = df['summaries'].astype(str)\n",
    "for i in range(df.shape[0]):\n",
    "    df.news[i] = df.news[i].replace(\"\\n\", \" \")\n",
    "\n",
    "# Show the dataframe\n",
    "df.head()\n",
    "\n",
    "\n",
    "# Save the df into system\n",
    "df.to_csv('/kaggle/working/origin_dataframe.csv', index=False)"
   ]
  },
  {
   "cell_type": "code",
   "execution_count": 5,
   "id": "0008e3e6",
   "metadata": {
    "execution": {
     "iopub.execute_input": "2023-12-20T01:14:14.384946Z",
     "iopub.status.busy": "2023-12-20T01:14:14.384492Z",
     "iopub.status.idle": "2023-12-20T01:14:14.479344Z",
     "shell.execute_reply": "2023-12-20T01:14:14.477365Z"
    },
    "papermill": {
     "duration": 0.101879,
     "end_time": "2023-12-20T01:14:14.481985",
     "exception": false,
     "start_time": "2023-12-20T01:14:14.380106",
     "status": "completed"
    },
    "tags": []
   },
   "outputs": [
    {
     "data": {
      "text/html": [
       "<div>\n",
       "<style scoped>\n",
       "    .dataframe tbody tr th:only-of-type {\n",
       "        vertical-align: middle;\n",
       "    }\n",
       "\n",
       "    .dataframe tbody tr th {\n",
       "        vertical-align: top;\n",
       "    }\n",
       "\n",
       "    .dataframe thead th {\n",
       "        text-align: right;\n",
       "    }\n",
       "</style>\n",
       "<table border=\"1\" class=\"dataframe\">\n",
       "  <thead>\n",
       "    <tr style=\"text-align: right;\">\n",
       "      <th></th>\n",
       "      <th>news</th>\n",
       "      <th>summaries</th>\n",
       "      <th>labels</th>\n",
       "    </tr>\n",
       "  </thead>\n",
       "  <tbody>\n",
       "    <tr>\n",
       "      <th>0</th>\n",
       "      <td>Budget to set scene for election  Gordon Brown...</td>\n",
       "      <td>- Increase in the stamp duty threshold from £6...</td>\n",
       "      <td>politics</td>\n",
       "    </tr>\n",
       "    <tr>\n",
       "      <th>1</th>\n",
       "      <td>Army chiefs in regiments decision  Military ch...</td>\n",
       "      <td>\"They are very much not for the good and will ...</td>\n",
       "      <td>politics</td>\n",
       "    </tr>\n",
       "    <tr>\n",
       "      <th>2</th>\n",
       "      <td>Howard denies split over ID cards  Michael How...</td>\n",
       "      <td>Michael Howard has denied his shadow cabinet w...</td>\n",
       "      <td>politics</td>\n",
       "    </tr>\n",
       "    <tr>\n",
       "      <th>3</th>\n",
       "      <td>Observers to monitor UK election  Ministers wi...</td>\n",
       "      <td>The report said individual registration should...</td>\n",
       "      <td>politics</td>\n",
       "    </tr>\n",
       "    <tr>\n",
       "      <th>4</th>\n",
       "      <td>Kilroy names election seat target  Ex-chat sho...</td>\n",
       "      <td>UKIP's leader, Roger Knapman, has said he is g...</td>\n",
       "      <td>politics</td>\n",
       "    </tr>\n",
       "  </tbody>\n",
       "</table>\n",
       "</div>"
      ],
      "text/plain": [
       "                                                news  \\\n",
       "0  Budget to set scene for election  Gordon Brown...   \n",
       "1  Army chiefs in regiments decision  Military ch...   \n",
       "2  Howard denies split over ID cards  Michael How...   \n",
       "3  Observers to monitor UK election  Ministers wi...   \n",
       "4  Kilroy names election seat target  Ex-chat sho...   \n",
       "\n",
       "                                           summaries    labels  \n",
       "0  - Increase in the stamp duty threshold from £6...  politics  \n",
       "1  \"They are very much not for the good and will ...  politics  \n",
       "2  Michael Howard has denied his shadow cabinet w...  politics  \n",
       "3  The report said individual registration should...  politics  \n",
       "4  UKIP's leader, Roger Knapman, has said he is g...  politics  "
      ]
     },
     "execution_count": 5,
     "metadata": {},
     "output_type": "execute_result"
    }
   ],
   "source": [
    "df = pd.read_csv('/kaggle/working/origin_dataframe.csv')\n",
    "df.head()\n",
    "#df.summaries[3]\n",
    "#df.shape"
   ]
  }
 ],
 "metadata": {
  "kaggle": {
   "accelerator": "none",
   "dataSources": [
    {
     "datasetId": 24984,
     "sourceId": 32267,
     "sourceType": "datasetVersion"
    }
   ],
   "dockerImageVersionId": 30626,
   "isGpuEnabled": false,
   "isInternetEnabled": true,
   "language": "python",
   "sourceType": "notebook"
  },
  "kernelspec": {
   "display_name": "Python 3",
   "language": "python",
   "name": "python3"
  },
  "language_info": {
   "codemirror_mode": {
    "name": "ipython",
    "version": 3
   },
   "file_extension": ".py",
   "mimetype": "text/x-python",
   "name": "python",
   "nbconvert_exporter": "python",
   "pygments_lexer": "ipython3",
   "version": "3.10.12"
  },
  "papermill": {
   "default_parameters": {},
   "duration": 20.464402,
   "end_time": "2023-12-20T01:14:15.106416",
   "environment_variables": {},
   "exception": null,
   "input_path": "__notebook__.ipynb",
   "output_path": "__notebook__.ipynb",
   "parameters": {},
   "start_time": "2023-12-20T01:13:54.642014",
   "version": "2.4.0"
  }
 },
 "nbformat": 4,
 "nbformat_minor": 5
}
